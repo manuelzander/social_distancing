{
 "cells": [
  {
   "cell_type": "code",
   "execution_count": null,
   "metadata": {},
   "outputs": [],
   "source": [
    "import numpy as np\n",
    "import pandas as pd\n",
    "import seaborn as sns\n",
    "import matplotlib.pyplot as plt\n",
    "import matplotlib.dates as mdates\n",
    "import ast \n",
    "\n",
    "from db import read_data_from_db\n",
    "\n",
    "# Use seaborn style defaults and set the default figure size\n",
    "sns.set(rc={'figure.figsize':(20, 12)})\n"
   ]
  },
  {
   "cell_type": "code",
   "execution_count": null,
   "metadata": {},
   "outputs": [],
   "source": [
    "def add_date(data):\n",
    "    # Convert unix ts into date\n",
    "    data[\"date\"] = pd.to_datetime(data['timestamp'], unit='s')\n",
    "    return data"
   ]
  },
  {
   "cell_type": "code",
   "execution_count": null,
   "metadata": {},
   "outputs": [],
   "source": [
    "data = read_data_from_db()"
   ]
  },
  {
   "cell_type": "code",
   "execution_count": null,
   "metadata": {},
   "outputs": [],
   "source": [
    "data = add_date(data)\n",
    "stations = list(data.name.unique())\n",
    "stations"
   ]
  },
  {
   "cell_type": "code",
   "execution_count": null,
   "metadata": {},
   "outputs": [],
   "source": [
    "data.head(2)"
   ]
  },
  {
   "cell_type": "code",
   "execution_count": null,
   "metadata": {},
   "outputs": [],
   "source": [
    "def plot_daily(data, station):\n",
    "    df = data.copy(deep=True)\n",
    "    df.set_index('date', inplace=True)\n",
    "    df = df[df.name == station]\n",
    "    df['current_popularity'].plot(linewidth=2)"
   ]
  },
  {
   "cell_type": "code",
   "execution_count": null,
   "metadata": {},
   "outputs": [],
   "source": [
    "def plot_daily_aggregated(data, station):\n",
    "    df = data.copy(deep=True)\n",
    "    # df.set_index('date', inplace=True)\n",
    "    df = df[df.name == station]\n",
    "    df = df.groupby([df['date'].dt.date]).mean()\n",
    "    df['current_popularity'].plot(linewidth=2)"
   ]
  },
  {
   "cell_type": "code",
   "execution_count": null,
   "metadata": {},
   "outputs": [],
   "source": [
    "def add_column_mean_popularity_att(data):\n",
    "    df = data.copy(deep=True)\n",
    "    df[\"mean_popularity_att\"] = df.apply(lambda x: ast.literal_eval(x.popular_times)[x.date.dayofweek]['data'][x.date.hour], axis=1)\n",
    "    return df"
   ]
  },
  {
   "cell_type": "code",
   "execution_count": null,
   "metadata": {},
   "outputs": [],
   "source": [
    "for station in stations:\n",
    "    plt.figure(0)\n",
    "    plot_daily(data, station)\n",
    "    plt.figure(1)\n",
    "    plot_daily_aggregated(data, station)\n",
    "\n",
    "    \n",
    "plt.legend(stations, loc='upper left')\n",
    "plt.gcf().autofmt_xdate()\n"
   ]
  },
  {
   "cell_type": "markdown",
   "metadata": {},
   "source": [
    "Next steps:\n",
    "\n",
    "- Aggregate data:\n",
    "    - Daily `current_popularity` per station\n",
    "        - Show this over time\n",
    "        - +/- percentage change to previous day\n",
    "- Compare `current_popularity` to the value in `populartimes` for a point in time\n",
    "    - +/- differnce to value in `populartimes` for a point in time (a normal day)\n",
    "- Do the `populartimes` values change over time as well???"
   ],
   "execution_count": null,
   "outputs": []
  }
 ],
 "metadata": {
  "kernelspec": {
   "display_name": "Python 3.6.8 64-bit ('env': virtualenv)",
   "language": "python",
   "name": "python36864bitenvvirtualenv4d14600347b547c18e792cab56909438"
  },
  "language_info": {
   "codemirror_mode": {
    "name": "ipython",
    "version": 3
   },
   "file_extension": ".py",
   "mimetype": "text/x-python",
   "name": "python",
   "nbconvert_exporter": "python",
   "pygments_lexer": "ipython3",
   "version": "3.6.8-final"
  }
 },
 "nbformat": 4,
 "nbformat_minor": 4
}
